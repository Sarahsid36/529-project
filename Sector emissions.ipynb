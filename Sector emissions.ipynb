{
 "cells": [
  {
   "cell_type": "code",
   "execution_count": 1,
   "id": "71dd813a",
   "metadata": {},
   "outputs": [],
   "source": [
    "import pandas as pd"
   ]
  },
  {
   "cell_type": "code",
   "execution_count": 2,
   "id": "3bd5a671",
   "metadata": {},
   "outputs": [],
   "source": [
    " transport = pd.read_excel (r'/Users/sarahsiddiqui/Desktop/classes/529/project/untitled folder/sectoral/transportation.xlsx')"
   ]
  },
  {
   "cell_type": "code",
   "execution_count": 5,
   "id": "60aa37b2",
   "metadata": {},
   "outputs": [],
   "source": [
    "transport = pd.melt(transport, id_vars = ['State'] , value_vars = None, var_name ='Year', value_name ='Transport CO2 emissions') "
   ]
  },
  {
   "cell_type": "code",
   "execution_count": 7,
   "id": "81e96861",
   "metadata": {},
   "outputs": [],
   "source": [
    "transport = transport.sort_values(by=['State','Year'])"
   ]
  },
  {
   "cell_type": "code",
   "execution_count": 28,
   "id": "5d1fd231",
   "metadata": {},
   "outputs": [],
   "source": [
    "residential = pd.read_excel (r'/Users/sarahsiddiqui/Desktop/classes/529/project/untitled folder/sectoral/residential.xlsx')"
   ]
  },
  {
   "cell_type": "code",
   "execution_count": 30,
   "id": "a9f8e936",
   "metadata": {},
   "outputs": [],
   "source": [
    "residential = pd.melt(residential, id_vars = ['State'] , value_vars = None, var_name ='Year', value_name ='Residential CO2 emissions') "
   ]
  },
  {
   "cell_type": "code",
   "execution_count": 31,
   "id": "31bdcf8b",
   "metadata": {},
   "outputs": [],
   "source": [
    "residential = residential.sort_values(by=['State','Year'])"
   ]
  },
  {
   "cell_type": "code",
   "execution_count": 33,
   "id": "907259cd",
   "metadata": {},
   "outputs": [],
   "source": [
    "industrial = pd.read_excel (r'/Users/sarahsiddiqui/Desktop/classes/529/project/untitled folder/sectoral/industrial.xlsx')"
   ]
  },
  {
   "cell_type": "code",
   "execution_count": 34,
   "id": "a105320b",
   "metadata": {},
   "outputs": [],
   "source": [
    "industrial = pd.melt(industrial, id_vars = ['State'] , value_vars = None, var_name ='Year', value_name ='Industrial CO2 emissions') "
   ]
  },
  {
   "cell_type": "code",
   "execution_count": 35,
   "id": "723aada6",
   "metadata": {},
   "outputs": [],
   "source": [
    "industrial = industrial.sort_values(by=['State','Year'])\n"
   ]
  },
  {
   "cell_type": "code",
   "execution_count": 42,
   "id": "51bea01c",
   "metadata": {},
   "outputs": [],
   "source": [
    "commercial = pd.read_excel (r'/Users/sarahsiddiqui/Desktop/classes/529/project/untitled folder/sectoral/commercial.xlsx')"
   ]
  },
  {
   "cell_type": "code",
   "execution_count": 43,
   "id": "ede316de",
   "metadata": {},
   "outputs": [],
   "source": [
    "commercial = pd.melt(commercial, id_vars = ['State'] , value_vars = None, var_name ='Year', value_name ='commercial CO2 emissions') "
   ]
  },
  {
   "cell_type": "code",
   "execution_count": 44,
   "id": "301af6bd",
   "metadata": {},
   "outputs": [],
   "source": [
    "commercial = commercial.sort_values(by=['State','Year'])\n"
   ]
  },
  {
   "cell_type": "code",
   "execution_count": 47,
   "id": "0acaff04",
   "metadata": {},
   "outputs": [],
   "source": [
    "merge_1 =  residential.merge(commercial, how = 'inner', on = ['State', 'Year'])"
   ]
  },
  {
   "cell_type": "code",
   "execution_count": 49,
   "id": "17d8a9da",
   "metadata": {},
   "outputs": [],
   "source": [
    "merge_2 = merge_1.merge(industrial, how = 'inner', on = ['State', 'Year'])"
   ]
  },
  {
   "cell_type": "code",
   "execution_count": 50,
   "id": "34304cd2",
   "metadata": {},
   "outputs": [],
   "source": [
    "merge_3 = merge_2.merge(transport, how = 'inner', on = ['State', 'Year'])"
   ]
  },
  {
   "cell_type": "code",
   "execution_count": 51,
   "id": "1412634f",
   "metadata": {},
   "outputs": [
    {
     "data": {
      "text/html": [
       "<div>\n",
       "<style scoped>\n",
       "    .dataframe tbody tr th:only-of-type {\n",
       "        vertical-align: middle;\n",
       "    }\n",
       "\n",
       "    .dataframe tbody tr th {\n",
       "        vertical-align: top;\n",
       "    }\n",
       "\n",
       "    .dataframe thead th {\n",
       "        text-align: right;\n",
       "    }\n",
       "</style>\n",
       "<table border=\"1\" class=\"dataframe\">\n",
       "  <thead>\n",
       "    <tr style=\"text-align: right;\">\n",
       "      <th></th>\n",
       "      <th>State</th>\n",
       "      <th>Year</th>\n",
       "      <th>Residential CO2 emissions</th>\n",
       "      <th>commercial CO2 emissions</th>\n",
       "      <th>Industrial CO2 emissions</th>\n",
       "      <th>Transport CO2 emissions</th>\n",
       "    </tr>\n",
       "  </thead>\n",
       "  <tbody>\n",
       "    <tr>\n",
       "      <th>0</th>\n",
       "      <td>Alabama</td>\n",
       "      <td>2000</td>\n",
       "      <td>3.7</td>\n",
       "      <td>2.3</td>\n",
       "      <td>26.2</td>\n",
       "      <td>33.4</td>\n",
       "    </tr>\n",
       "    <tr>\n",
       "      <th>1</th>\n",
       "      <td>Alabama</td>\n",
       "      <td>2001</td>\n",
       "      <td>3.5</td>\n",
       "      <td>2.2</td>\n",
       "      <td>22.7</td>\n",
       "      <td>31.3</td>\n",
       "    </tr>\n",
       "    <tr>\n",
       "      <th>2</th>\n",
       "      <td>Alabama</td>\n",
       "      <td>2002</td>\n",
       "      <td>3.3</td>\n",
       "      <td>2.0</td>\n",
       "      <td>22.4</td>\n",
       "      <td>33.3</td>\n",
       "    </tr>\n",
       "    <tr>\n",
       "      <th>3</th>\n",
       "      <td>Alabama</td>\n",
       "      <td>2003</td>\n",
       "      <td>3.1</td>\n",
       "      <td>2.1</td>\n",
       "      <td>23.7</td>\n",
       "      <td>32.3</td>\n",
       "    </tr>\n",
       "    <tr>\n",
       "      <th>4</th>\n",
       "      <td>Alabama</td>\n",
       "      <td>2004</td>\n",
       "      <td>3.0</td>\n",
       "      <td>2.2</td>\n",
       "      <td>24.0</td>\n",
       "      <td>34.8</td>\n",
       "    </tr>\n",
       "    <tr>\n",
       "      <th>...</th>\n",
       "      <td>...</td>\n",
       "      <td>...</td>\n",
       "      <td>...</td>\n",
       "      <td>...</td>\n",
       "      <td>...</td>\n",
       "      <td>...</td>\n",
       "    </tr>\n",
       "    <tr>\n",
       "      <th>964</th>\n",
       "      <td>Wyoming</td>\n",
       "      <td>2014</td>\n",
       "      <td>0.9</td>\n",
       "      <td>1.1</td>\n",
       "      <td>12.0</td>\n",
       "      <td>8.0</td>\n",
       "    </tr>\n",
       "    <tr>\n",
       "      <th>965</th>\n",
       "      <td>Wyoming</td>\n",
       "      <td>2015</td>\n",
       "      <td>0.8</td>\n",
       "      <td>1.1</td>\n",
       "      <td>10.5</td>\n",
       "      <td>7.6</td>\n",
       "    </tr>\n",
       "    <tr>\n",
       "      <th>966</th>\n",
       "      <td>Wyoming</td>\n",
       "      <td>2016</td>\n",
       "      <td>0.9</td>\n",
       "      <td>1.1</td>\n",
       "      <td>10.7</td>\n",
       "      <td>7.6</td>\n",
       "    </tr>\n",
       "    <tr>\n",
       "      <th>967</th>\n",
       "      <td>Wyoming</td>\n",
       "      <td>2017</td>\n",
       "      <td>0.9</td>\n",
       "      <td>1.0</td>\n",
       "      <td>12.1</td>\n",
       "      <td>7.6</td>\n",
       "    </tr>\n",
       "    <tr>\n",
       "      <th>968</th>\n",
       "      <td>Wyoming</td>\n",
       "      <td>2018</td>\n",
       "      <td>1.0</td>\n",
       "      <td>1.0</td>\n",
       "      <td>13.2</td>\n",
       "      <td>7.9</td>\n",
       "    </tr>\n",
       "  </tbody>\n",
       "</table>\n",
       "<p>969 rows × 6 columns</p>\n",
       "</div>"
      ],
      "text/plain": [
       "       State  Year  Residential CO2 emissions  commercial CO2 emissions  \\\n",
       "0    Alabama  2000                        3.7                       2.3   \n",
       "1    Alabama  2001                        3.5                       2.2   \n",
       "2    Alabama  2002                        3.3                       2.0   \n",
       "3    Alabama  2003                        3.1                       2.1   \n",
       "4    Alabama  2004                        3.0                       2.2   \n",
       "..       ...   ...                        ...                       ...   \n",
       "964  Wyoming  2014                        0.9                       1.1   \n",
       "965  Wyoming  2015                        0.8                       1.1   \n",
       "966  Wyoming  2016                        0.9                       1.1   \n",
       "967  Wyoming  2017                        0.9                       1.0   \n",
       "968  Wyoming  2018                        1.0                       1.0   \n",
       "\n",
       "     Industrial CO2 emissions  Transport CO2 emissions  \n",
       "0                        26.2                     33.4  \n",
       "1                        22.7                     31.3  \n",
       "2                        22.4                     33.3  \n",
       "3                        23.7                     32.3  \n",
       "4                        24.0                     34.8  \n",
       "..                        ...                      ...  \n",
       "964                      12.0                      8.0  \n",
       "965                      10.5                      7.6  \n",
       "966                      10.7                      7.6  \n",
       "967                      12.1                      7.6  \n",
       "968                      13.2                      7.9  \n",
       "\n",
       "[969 rows x 6 columns]"
      ]
     },
     "execution_count": 51,
     "metadata": {},
     "output_type": "execute_result"
    }
   ],
   "source": [
    "merge_3"
   ]
  },
  {
   "cell_type": "code",
   "execution_count": 52,
   "id": "aac3dbbe",
   "metadata": {},
   "outputs": [],
   "source": [
    "residential.to_excel(r'/Users/sarahsiddiqui/Desktop/classes/529/project/residential.xlsx', index = False)\n",
    "industrial.to_excel(r'/Users/sarahsiddiqui/Desktop/classes/529/project/industrial.xlsx', index = False)\n",
    "transport.to_excel(r'/Users/sarahsiddiqui/Desktop/classes/529/project/transport.xlsx', index = False)\n",
    "commercial.to_excel(r'/Users/sarahsiddiqui/Desktop/classes/529/project/commercial.xlsx', index = False)"
   ]
  },
  {
   "cell_type": "code",
   "execution_count": 53,
   "id": "ee8c03c1",
   "metadata": {},
   "outputs": [],
   "source": [
    "merge_3.to_excel(r'/Users/sarahsiddiqui/Desktop/classes/529/project/sector merge.xlsx', index = False)"
   ]
  },
  {
   "cell_type": "code",
   "execution_count": 57,
   "id": "b4c756ba",
   "metadata": {},
   "outputs": [],
   "source": [
    "merge_4 = pd.read_excel (r'/Users/sarahsiddiqui/Desktop/classes/529/project/mergedfilefinal.xlsx')"
   ]
  },
  {
   "cell_type": "code",
   "execution_count": 58,
   "id": "9e7eb2de",
   "metadata": {},
   "outputs": [],
   "source": [
    "merge_5 = merge_3.merge(merge_4, how = 'inner', on = ['State', 'Year'])"
   ]
  },
  {
   "cell_type": "markdown",
   "id": "47a133ae",
   "metadata": {},
   "source": []
  },
  {
   "cell_type": "code",
   "execution_count": 61,
   "id": "c7b8f487",
   "metadata": {},
   "outputs": [],
   "source": [
    "merge_5.to_excel(r'/Users/sarahsiddiqui/Desktop/classes/529/project/alldatamerge.xlsx', index = False)"
   ]
  }
 ],
 "metadata": {
  "kernelspec": {
   "display_name": "Python 3",
   "language": "python",
   "name": "python3"
  },
  "language_info": {
   "codemirror_mode": {
    "name": "ipython",
    "version": 3
   },
   "file_extension": ".py",
   "mimetype": "text/x-python",
   "name": "python",
   "nbconvert_exporter": "python",
   "pygments_lexer": "ipython3",
   "version": "3.8.8"
  }
 },
 "nbformat": 4,
 "nbformat_minor": 5
}
