{
 "cells": [
  {
   "cell_type": "code",
   "execution_count": 1,
   "id": "e1c24c71",
   "metadata": {},
   "outputs": [],
   "source": [
    "import pandas as pd"
   ]
  },
  {
   "cell_type": "code",
   "execution_count": 2,
   "id": "bce75219",
   "metadata": {},
   "outputs": [],
   "source": [
    "personal_income = pd.read_excel (r'/Users/sarahsiddiqui/Desktop/classes/529/project/personal income.xls')"
   ]
  },
  {
   "cell_type": "code",
   "execution_count": 4,
   "id": "5121c095",
   "metadata": {},
   "outputs": [],
   "source": [
    "income = pd.melt(personal_income, id_vars = ['State'] , value_vars = None, var_name ='Year', value_name ='personal_income') "
   ]
  },
  {
   "cell_type": "code",
   "execution_count": 5,
   "id": "ff01978c",
   "metadata": {},
   "outputs": [],
   "source": [
    "income = income.sort_values(by=['State','Year'])"
   ]
  },
  {
   "cell_type": "code",
   "execution_count": 7,
   "id": "bddf2246",
   "metadata": {},
   "outputs": [],
   "source": [
    "unemp = pd.read_excel (r'/Users/sarahsiddiqui/Desktop/classes/529/project/unemployment rate.xlsx')"
   ]
  },
  {
   "cell_type": "code",
   "execution_count": 8,
   "id": "b3c39486",
   "metadata": {},
   "outputs": [],
   "source": [
    "unemp = pd.melt(unemp, id_vars = ['State'] , value_vars = None, var_name ='Year', value_name ='unemp_rate') "
   ]
  },
  {
   "cell_type": "code",
   "execution_count": 9,
   "id": "381e5535",
   "metadata": {},
   "outputs": [],
   "source": [
    "unemp = unemp.sort_values(by=['State','Year'])"
   ]
  },
  {
   "cell_type": "code",
   "execution_count": 15,
   "id": "c962788b",
   "metadata": {},
   "outputs": [],
   "source": [
    "unemp['del'] = unemp['Year'].str[0:2]\n",
    "unemp['year'] = unemp['Year'].str[1:6]"
   ]
  },
  {
   "cell_type": "code",
   "execution_count": 16,
   "id": "15dfaba2",
   "metadata": {},
   "outputs": [],
   "source": [
    "unemp.drop('del', axis=1, inplace=True)"
   ]
  },
  {
   "cell_type": "code",
   "execution_count": 18,
   "id": "4d9ae3e5",
   "metadata": {},
   "outputs": [],
   "source": [
    "unemp.drop('Year', axis=1, inplace=True)"
   ]
  },
  {
   "cell_type": "code",
   "execution_count": 48,
   "id": "d96e012c",
   "metadata": {},
   "outputs": [],
   "source": [
    "income['Year'] = income['Year'].astype(int)"
   ]
  },
  {
   "cell_type": "code",
   "execution_count": 23,
   "id": "090fac07",
   "metadata": {},
   "outputs": [],
   "source": [
    "unemp = unemp.rename(columns={\"year\": \"Year\"})"
   ]
  },
  {
   "cell_type": "code",
   "execution_count": 25,
   "id": "2e46897c",
   "metadata": {},
   "outputs": [],
   "source": [
    "unemp = unemp.reset_index(drop=True)"
   ]
  },
  {
   "cell_type": "code",
   "execution_count": 47,
   "id": "fbb22421",
   "metadata": {},
   "outputs": [],
   "source": [
    "unemp['Year'] = unemp['Year'].astype(int)"
   ]
  },
  {
   "cell_type": "code",
   "execution_count": 61,
   "id": "7b1b8a0e",
   "metadata": {},
   "outputs": [],
   "source": [
    "unemp.to_excel(r'/Users/sarahsiddiqui/Desktop/classes/529/project/unemp_rate.xlsx')\n",
    "income.to_excel(r'/Users/sarahsiddiqui/Desktop/classes/529/project/income.xlsx')"
   ]
  },
  {
   "cell_type": "code",
   "execution_count": 67,
   "id": "5a2a9dd2",
   "metadata": {},
   "outputs": [],
   "source": [
    "data_all = pd.read_excel (r'/Users/sarahsiddiqui/Desktop/classes/529/project/alldatamerge.xlsx')"
   ]
  },
  {
   "cell_type": "code",
   "execution_count": 63,
   "id": "f9270e36",
   "metadata": {},
   "outputs": [],
   "source": [
    "merge_1 =  income.merge(unemp, how = 'inner', on = ['State', 'Year'])"
   ]
  },
  {
   "cell_type": "code",
   "execution_count": 74,
   "id": "95d905f1",
   "metadata": {},
   "outputs": [],
   "source": [
    "merge_2 = data_all.merge(merge_1, how = 'inner' , on = ['State' , 'Year'], indicator='True')"
   ]
  },
  {
   "cell_type": "code",
   "execution_count": 78,
   "id": "b8979101",
   "metadata": {},
   "outputs": [
    {
     "data": {
      "text/html": [
       "<div>\n",
       "<style scoped>\n",
       "    .dataframe tbody tr th:only-of-type {\n",
       "        vertical-align: middle;\n",
       "    }\n",
       "\n",
       "    .dataframe tbody tr th {\n",
       "        vertical-align: top;\n",
       "    }\n",
       "\n",
       "    .dataframe thead th {\n",
       "        text-align: right;\n",
       "    }\n",
       "</style>\n",
       "<table border=\"1\" class=\"dataframe\">\n",
       "  <thead>\n",
       "    <tr style=\"text-align: right;\">\n",
       "      <th></th>\n",
       "      <th>State</th>\n",
       "      <th>Year</th>\n",
       "      <th>Residential CO2 emissions</th>\n",
       "      <th>commercial CO2 emissions</th>\n",
       "      <th>Industrial CO2 emissions</th>\n",
       "      <th>Transport CO2 emissions</th>\n",
       "      <th>Per Capita energy related emissions</th>\n",
       "      <th>Carbon Intensity of energy supply</th>\n",
       "      <th>Carbon emissions adjusted</th>\n",
       "      <th>Carbon Intensity Economy</th>\n",
       "      <th>Population</th>\n",
       "      <th>RGGI Adopt</th>\n",
       "    </tr>\n",
       "  </thead>\n",
       "  <tbody>\n",
       "    <tr>\n",
       "      <th>0</th>\n",
       "      <td>Alabama</td>\n",
       "      <td>2000</td>\n",
       "      <td>3.7</td>\n",
       "      <td>2.3</td>\n",
       "      <td>26.2</td>\n",
       "      <td>33.4</td>\n",
       "      <td>32.097687</td>\n",
       "      <td>58.980063</td>\n",
       "      <td>143.449839</td>\n",
       "      <td>783.255236</td>\n",
       "      <td>4452173</td>\n",
       "      <td>0</td>\n",
       "    </tr>\n",
       "    <tr>\n",
       "      <th>1</th>\n",
       "      <td>Alabama</td>\n",
       "      <td>2001</td>\n",
       "      <td>3.5</td>\n",
       "      <td>2.2</td>\n",
       "      <td>22.7</td>\n",
       "      <td>31.3</td>\n",
       "      <td>30.044993</td>\n",
       "      <td>58.595615</td>\n",
       "      <td>134.985163</td>\n",
       "      <td>707.835028</td>\n",
       "      <td>4467634</td>\n",
       "      <td>0</td>\n",
       "    </tr>\n",
       "    <tr>\n",
       "      <th>2</th>\n",
       "      <td>Alabama</td>\n",
       "      <td>2002</td>\n",
       "      <td>3.3</td>\n",
       "      <td>2.0</td>\n",
       "      <td>22.4</td>\n",
       "      <td>33.3</td>\n",
       "      <td>31.078369</td>\n",
       "      <td>58.387879</td>\n",
       "      <td>140.003374</td>\n",
       "      <td>709.996611</td>\n",
       "      <td>4480089</td>\n",
       "      <td>0</td>\n",
       "    </tr>\n",
       "    <tr>\n",
       "      <th>3</th>\n",
       "      <td>Alabama</td>\n",
       "      <td>2003</td>\n",
       "      <td>3.1</td>\n",
       "      <td>2.1</td>\n",
       "      <td>23.7</td>\n",
       "      <td>32.3</td>\n",
       "      <td>31.146559</td>\n",
       "      <td>58.176501</td>\n",
       "      <td>140.866652</td>\n",
       "      <td>687.646242</td>\n",
       "      <td>4503491</td>\n",
       "      <td>0</td>\n",
       "    </tr>\n",
       "    <tr>\n",
       "      <th>4</th>\n",
       "      <td>Alabama</td>\n",
       "      <td>2004</td>\n",
       "      <td>3.0</td>\n",
       "      <td>2.2</td>\n",
       "      <td>24.0</td>\n",
       "      <td>34.8</td>\n",
       "      <td>31.462079</td>\n",
       "      <td>57.504820</td>\n",
       "      <td>143.567133</td>\n",
       "      <td>675.106584</td>\n",
       "      <td>4530729</td>\n",
       "      <td>0</td>\n",
       "    </tr>\n",
       "    <tr>\n",
       "      <th>...</th>\n",
       "      <td>...</td>\n",
       "      <td>...</td>\n",
       "      <td>...</td>\n",
       "      <td>...</td>\n",
       "      <td>...</td>\n",
       "      <td>...</td>\n",
       "      <td>...</td>\n",
       "      <td>...</td>\n",
       "      <td>...</td>\n",
       "      <td>...</td>\n",
       "      <td>...</td>\n",
       "      <td>...</td>\n",
       "    </tr>\n",
       "    <tr>\n",
       "      <th>964</th>\n",
       "      <td>Wyoming</td>\n",
       "      <td>2014</td>\n",
       "      <td>0.9</td>\n",
       "      <td>1.1</td>\n",
       "      <td>12.0</td>\n",
       "      <td>8.0</td>\n",
       "      <td>112.744258</td>\n",
       "      <td>76.445675</td>\n",
       "      <td>65.724561</td>\n",
       "      <td>1058.772596</td>\n",
       "      <td>582531</td>\n",
       "      <td>0</td>\n",
       "    </tr>\n",
       "    <tr>\n",
       "      <th>965</th>\n",
       "      <td>Wyoming</td>\n",
       "      <td>2015</td>\n",
       "      <td>0.8</td>\n",
       "      <td>1.1</td>\n",
       "      <td>10.5</td>\n",
       "      <td>7.6</td>\n",
       "      <td>108.894718</td>\n",
       "      <td>77.261528</td>\n",
       "      <td>63.810667</td>\n",
       "      <td>981.994022</td>\n",
       "      <td>585613</td>\n",
       "      <td>0</td>\n",
       "    </tr>\n",
       "    <tr>\n",
       "      <th>966</th>\n",
       "      <td>Wyoming</td>\n",
       "      <td>2016</td>\n",
       "      <td>0.9</td>\n",
       "      <td>1.1</td>\n",
       "      <td>10.7</td>\n",
       "      <td>7.6</td>\n",
       "      <td>104.380515</td>\n",
       "      <td>76.070089</td>\n",
       "      <td>60.965014</td>\n",
       "      <td>1008.689381</td>\n",
       "      <td>584215</td>\n",
       "      <td>0</td>\n",
       "    </tr>\n",
       "    <tr>\n",
       "      <th>967</th>\n",
       "      <td>Wyoming</td>\n",
       "      <td>2017</td>\n",
       "      <td>0.9</td>\n",
       "      <td>1.0</td>\n",
       "      <td>12.1</td>\n",
       "      <td>7.6</td>\n",
       "      <td>107.845353</td>\n",
       "      <td>75.180745</td>\n",
       "      <td>62.358653</td>\n",
       "      <td>1061.552122</td>\n",
       "      <td>578931</td>\n",
       "      <td>0</td>\n",
       "    </tr>\n",
       "    <tr>\n",
       "      <th>968</th>\n",
       "      <td>Wyoming</td>\n",
       "      <td>2018</td>\n",
       "      <td>1.0</td>\n",
       "      <td>1.0</td>\n",
       "      <td>13.2</td>\n",
       "      <td>7.9</td>\n",
       "      <td>109.913935</td>\n",
       "      <td>75.131093</td>\n",
       "      <td>63.442856</td>\n",
       "      <td>1082.639053</td>\n",
       "      <td>577601</td>\n",
       "      <td>0</td>\n",
       "    </tr>\n",
       "  </tbody>\n",
       "</table>\n",
       "<p>969 rows × 12 columns</p>\n",
       "</div>"
      ],
      "text/plain": [
       "       State  Year  Residential CO2 emissions  commercial CO2 emissions  \\\n",
       "0    Alabama  2000                        3.7                       2.3   \n",
       "1    Alabama  2001                        3.5                       2.2   \n",
       "2    Alabama  2002                        3.3                       2.0   \n",
       "3    Alabama  2003                        3.1                       2.1   \n",
       "4    Alabama  2004                        3.0                       2.2   \n",
       "..       ...   ...                        ...                       ...   \n",
       "964  Wyoming  2014                        0.9                       1.1   \n",
       "965  Wyoming  2015                        0.8                       1.1   \n",
       "966  Wyoming  2016                        0.9                       1.1   \n",
       "967  Wyoming  2017                        0.9                       1.0   \n",
       "968  Wyoming  2018                        1.0                       1.0   \n",
       "\n",
       "     Industrial CO2 emissions  Transport CO2 emissions  \\\n",
       "0                        26.2                     33.4   \n",
       "1                        22.7                     31.3   \n",
       "2                        22.4                     33.3   \n",
       "3                        23.7                     32.3   \n",
       "4                        24.0                     34.8   \n",
       "..                        ...                      ...   \n",
       "964                      12.0                      8.0   \n",
       "965                      10.5                      7.6   \n",
       "966                      10.7                      7.6   \n",
       "967                      12.1                      7.6   \n",
       "968                      13.2                      7.9   \n",
       "\n",
       "     Per Capita energy related emissions  Carbon Intensity of energy supply  \\\n",
       "0                              32.097687                          58.980063   \n",
       "1                              30.044993                          58.595615   \n",
       "2                              31.078369                          58.387879   \n",
       "3                              31.146559                          58.176501   \n",
       "4                              31.462079                          57.504820   \n",
       "..                                   ...                                ...   \n",
       "964                           112.744258                          76.445675   \n",
       "965                           108.894718                          77.261528   \n",
       "966                           104.380515                          76.070089   \n",
       "967                           107.845353                          75.180745   \n",
       "968                           109.913935                          75.131093   \n",
       "\n",
       "     Carbon emissions adjusted  Carbon Intensity Economy  Population  \\\n",
       "0                   143.449839                783.255236     4452173   \n",
       "1                   134.985163                707.835028     4467634   \n",
       "2                   140.003374                709.996611     4480089   \n",
       "3                   140.866652                687.646242     4503491   \n",
       "4                   143.567133                675.106584     4530729   \n",
       "..                         ...                       ...         ...   \n",
       "964                  65.724561               1058.772596      582531   \n",
       "965                  63.810667                981.994022      585613   \n",
       "966                  60.965014               1008.689381      584215   \n",
       "967                  62.358653               1061.552122      578931   \n",
       "968                  63.442856               1082.639053      577601   \n",
       "\n",
       "     RGGI Adopt  \n",
       "0             0  \n",
       "1             0  \n",
       "2             0  \n",
       "3             0  \n",
       "4             0  \n",
       "..          ...  \n",
       "964           0  \n",
       "965           0  \n",
       "966           0  \n",
       "967           0  \n",
       "968           0  \n",
       "\n",
       "[969 rows x 12 columns]"
      ]
     },
     "execution_count": 78,
     "metadata": {},
     "output_type": "execute_result"
    }
   ],
   "source": []
  },
  {
   "cell_type": "code",
   "execution_count": 72,
   "id": "b4986ce9",
   "metadata": {},
   "outputs": [],
   "source": []
  },
  {
   "cell_type": "code",
   "execution_count": 79,
   "id": "9952fbdf",
   "metadata": {},
   "outputs": [],
   "source": [
    "merge_1.to_excel(r'/Users/sarahsiddiqui/Desktop/classes/529/project/emp_inc.xlsx')"
   ]
  }
 ],
 "metadata": {
  "kernelspec": {
   "display_name": "Python 3",
   "language": "python",
   "name": "python3"
  },
  "language_info": {
   "codemirror_mode": {
    "name": "ipython",
    "version": 3
   },
   "file_extension": ".py",
   "mimetype": "text/x-python",
   "name": "python",
   "nbconvert_exporter": "python",
   "pygments_lexer": "ipython3",
   "version": "3.8.8"
  }
 },
 "nbformat": 4,
 "nbformat_minor": 5
}
