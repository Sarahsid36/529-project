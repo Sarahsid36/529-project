{
 "cells": [
  {
   "cell_type": "code",
   "execution_count": 1,
   "id": "027b9cb6",
   "metadata": {},
   "outputs": [],
   "source": [
    "import pandas as pd\n"
   ]
  },
  {
   "cell_type": "code",
   "execution_count": 2,
   "id": "25490166",
   "metadata": {},
   "outputs": [],
   "source": [
    "temp_data = pd.read_excel (r'/Users/sarahsiddiqui/Desktop/classes/529/project/state avg monthly temp data.xlsx')"
   ]
  },
  {
   "cell_type": "code",
   "execution_count": 4,
   "id": "077f9a4a",
   "metadata": {},
   "outputs": [],
   "source": [
    "import numpy as np\n"
   ]
  },
  {
   "cell_type": "code",
   "execution_count": 44,
   "id": "c7e6e34e",
   "metadata": {},
   "outputs": [
    {
     "data": {
      "text/html": [
       "<div>\n",
       "<style scoped>\n",
       "    .dataframe tbody tr th:only-of-type {\n",
       "        vertical-align: middle;\n",
       "    }\n",
       "\n",
       "    .dataframe tbody tr th {\n",
       "        vertical-align: top;\n",
       "    }\n",
       "\n",
       "    .dataframe thead th {\n",
       "        text-align: right;\n",
       "    }\n",
       "</style>\n",
       "<table border=\"1\" class=\"dataframe\">\n",
       "  <thead>\n",
       "    <tr style=\"text-align: right;\">\n",
       "      <th></th>\n",
       "      <th>State</th>\n",
       "      <th>mean_monthly</th>\n",
       "      <th>Year</th>\n",
       "      <th>Month</th>\n",
       "    </tr>\n",
       "  </thead>\n",
       "  <tbody>\n",
       "    <tr>\n",
       "      <th>0</th>\n",
       "      <td>Alabama</td>\n",
       "      <td>46.5</td>\n",
       "      <td>2000</td>\n",
       "      <td>1</td>\n",
       "    </tr>\n",
       "    <tr>\n",
       "      <th>1</th>\n",
       "      <td>Alabama</td>\n",
       "      <td>52.3</td>\n",
       "      <td>2000</td>\n",
       "      <td>2</td>\n",
       "    </tr>\n",
       "    <tr>\n",
       "      <th>2</th>\n",
       "      <td>Alabama</td>\n",
       "      <td>58.9</td>\n",
       "      <td>2000</td>\n",
       "      <td>3</td>\n",
       "    </tr>\n",
       "    <tr>\n",
       "      <th>3</th>\n",
       "      <td>Alabama</td>\n",
       "      <td>60.1</td>\n",
       "      <td>2000</td>\n",
       "      <td>4</td>\n",
       "    </tr>\n",
       "    <tr>\n",
       "      <th>4</th>\n",
       "      <td>Alabama</td>\n",
       "      <td>74.0</td>\n",
       "      <td>2000</td>\n",
       "      <td>5</td>\n",
       "    </tr>\n",
       "    <tr>\n",
       "      <th>...</th>\n",
       "      <td>...</td>\n",
       "      <td>...</td>\n",
       "      <td>...</td>\n",
       "      <td>...</td>\n",
       "    </tr>\n",
       "    <tr>\n",
       "      <th>10939</th>\n",
       "      <td>Wyoming</td>\n",
       "      <td>63.6</td>\n",
       "      <td>2018</td>\n",
       "      <td>8</td>\n",
       "    </tr>\n",
       "    <tr>\n",
       "      <th>10940</th>\n",
       "      <td>Wyoming</td>\n",
       "      <td>57.2</td>\n",
       "      <td>2018</td>\n",
       "      <td>9</td>\n",
       "    </tr>\n",
       "    <tr>\n",
       "      <th>10941</th>\n",
       "      <td>Wyoming</td>\n",
       "      <td>41.0</td>\n",
       "      <td>2018</td>\n",
       "      <td>10</td>\n",
       "    </tr>\n",
       "    <tr>\n",
       "      <th>10942</th>\n",
       "      <td>Wyoming</td>\n",
       "      <td>28.6</td>\n",
       "      <td>2018</td>\n",
       "      <td>11</td>\n",
       "    </tr>\n",
       "    <tr>\n",
       "      <th>10943</th>\n",
       "      <td>Wyoming</td>\n",
       "      <td>21.5</td>\n",
       "      <td>2018</td>\n",
       "      <td>12</td>\n",
       "    </tr>\n",
       "  </tbody>\n",
       "</table>\n",
       "<p>10944 rows × 4 columns</p>\n",
       "</div>"
      ],
      "text/plain": [
       "         State  mean_monthly  Year  Month\n",
       "0      Alabama          46.5  2000      1\n",
       "1      Alabama          52.3  2000      2\n",
       "2      Alabama          58.9  2000      3\n",
       "3      Alabama          60.1  2000      4\n",
       "4      Alabama          74.0  2000      5\n",
       "...        ...           ...   ...    ...\n",
       "10939  Wyoming          63.6  2018      8\n",
       "10940  Wyoming          57.2  2018      9\n",
       "10941  Wyoming          41.0  2018     10\n",
       "10942  Wyoming          28.6  2018     11\n",
       "10943  Wyoming          21.5  2018     12\n",
       "\n",
       "[10944 rows x 4 columns]"
      ]
     },
     "execution_count": 44,
     "metadata": {},
     "output_type": "execute_result"
    }
   ],
   "source": [
    "temp_data"
   ]
  },
  {
   "cell_type": "code",
   "execution_count": 9,
   "id": "636c9f33",
   "metadata": {},
   "outputs": [],
   "source": [
    "temp_data['year_month'] = temp_data['Date (YYYYMM)'].astype(str)\n"
   ]
  },
  {
   "cell_type": "code",
   "execution_count": 11,
   "id": "944734d7",
   "metadata": {},
   "outputs": [],
   "source": [
    "temp_data['Year'] = temp_data['year_month'].str[0:4]\n",
    "temp_data['Month'] = temp_data['year_month'].str[4:6]\n"
   ]
  },
  {
   "cell_type": "code",
   "execution_count": 14,
   "id": "a658dc06",
   "metadata": {},
   "outputs": [],
   "source": [
    "temp_data.drop('Date (YYYYMM)', axis=1, inplace=True)"
   ]
  },
  {
   "cell_type": "code",
   "execution_count": 16,
   "id": "8b0125c7",
   "metadata": {},
   "outputs": [],
   "source": [
    "temp_data.drop('year_month', axis=1, inplace=True)"
   ]
  },
  {
   "cell_type": "code",
   "execution_count": 19,
   "id": "bc3eedfd",
   "metadata": {},
   "outputs": [],
   "source": [
    "temp_data['Year'] = temp_data['Year'].astype(int)"
   ]
  },
  {
   "cell_type": "code",
   "execution_count": 20,
   "id": "65900a82",
   "metadata": {},
   "outputs": [],
   "source": [
    "temp_data['Month'] = temp_data['Month'].astype(int)"
   ]
  },
  {
   "cell_type": "code",
   "execution_count": null,
   "id": "cb286093",
   "metadata": {},
   "outputs": [],
   "source": []
  },
  {
   "cell_type": "code",
   "execution_count": 23,
   "id": "972c28be",
   "metadata": {},
   "outputs": [],
   "source": [
    "temp_data.drop( temp_data[ temp_data['Year'] < 2000 ].index , inplace=True)"
   ]
  },
  {
   "cell_type": "code",
   "execution_count": 25,
   "id": "0fb804ee",
   "metadata": {},
   "outputs": [],
   "source": [
    "temp_data.drop( temp_data[ temp_data['Year'] > 2018 ].index , inplace=True)"
   ]
  },
  {
   "cell_type": "code",
   "execution_count": 61,
   "id": "846ddebd",
   "metadata": {},
   "outputs": [],
   "source": [
    "temp_data = temp_data.reset_index(drop=True)"
   ]
  },
  {
   "cell_type": "code",
   "execution_count": 62,
   "id": "570f5d4f",
   "metadata": {},
   "outputs": [],
   "source": [
    "temp_data = temp_data.rename(columns={\"Mean Monthly Temperature\": \"mean_monthly\"})"
   ]
  },
  {
   "cell_type": "code",
   "execution_count": 63,
   "id": "cd91d326",
   "metadata": {},
   "outputs": [],
   "source": [
    "temp_data_avg = temp_data.groupby(['State', 'Year']).agg({'mean_monthly': ['mean']}).reset_index()"
   ]
  },
  {
   "cell_type": "code",
   "execution_count": 64,
   "id": "018af6da",
   "metadata": {},
   "outputs": [],
   "source": [
    "temp_data_avg = temp_data_avg.rename(columns={\"mean_monthly\" : \"avg_temp\"})"
   ]
  },
  {
   "cell_type": "code",
   "execution_count": 66,
   "id": "95a44765",
   "metadata": {},
   "outputs": [
    {
     "name": "stdout",
     "output_type": "stream",
     "text": [
      "       State  Year   avg_temp\n",
      "                         mean\n",
      "0    Alabama  2000  63.566667\n",
      "1    Alabama  2001  63.033333\n",
      "2    Alabama  2002  63.575000\n",
      "3    Alabama  2003  62.733333\n",
      "4    Alabama  2004  63.333333\n",
      "..       ...   ...        ...\n",
      "907  Wyoming  2014  42.125000\n",
      "908  Wyoming  2015  44.158333\n",
      "909  Wyoming  2016  43.908333\n",
      "910  Wyoming  2017  43.200000\n",
      "911  Wyoming  2018  42.408333\n",
      "\n",
      "[912 rows x 3 columns]\n"
     ]
    }
   ],
   "source": [
    "print(temp_data_avg)"
   ]
  },
  {
   "cell_type": "code",
   "execution_count": 70,
   "id": "c2aec8c6",
   "metadata": {},
   "outputs": [],
   "source": []
  },
  {
   "cell_type": "code",
   "execution_count": 71,
   "id": "af8148f0",
   "metadata": {},
   "outputs": [],
   "source": [
    "dc_temp = pd.read_excel (r'/Users/sarahsiddiqui/Desktop/classes/529/project/DC temperature data.xlsx')"
   ]
  },
  {
   "cell_type": "code",
   "execution_count": 74,
   "id": "33aa0241",
   "metadata": {},
   "outputs": [],
   "source": [
    "dc_temp['year_month'] = dc_temp['Date'].astype(str)"
   ]
  },
  {
   "cell_type": "code",
   "execution_count": 76,
   "id": "0692d717",
   "metadata": {},
   "outputs": [],
   "source": [
    "dc_temp['Year'] = dc_temp['year_month'].str[0:4]\n",
    "dc_temp['Month'] = dc_temp['year_month'].str[4:6]"
   ]
  },
  {
   "cell_type": "code",
   "execution_count": 78,
   "id": "28e7d333",
   "metadata": {},
   "outputs": [],
   "source": [
    "dc_temp.drop('Date', axis=1, inplace=True)"
   ]
  },
  {
   "cell_type": "code",
   "execution_count": 79,
   "id": "2ae38ecc",
   "metadata": {},
   "outputs": [],
   "source": [
    "dc_temp.drop('year_month', axis=1, inplace=True)"
   ]
  },
  {
   "cell_type": "code",
   "execution_count": 81,
   "id": "4fdb3a80",
   "metadata": {},
   "outputs": [],
   "source": [
    "dc_temp['Year'] = dc_temp['Year'].astype(int)"
   ]
  },
  {
   "cell_type": "code",
   "execution_count": 82,
   "id": "b8af083b",
   "metadata": {},
   "outputs": [],
   "source": [
    "dc_temp['Month'] = dc_temp['Month'].astype(int)"
   ]
  },
  {
   "cell_type": "code",
   "execution_count": 83,
   "id": "eff48be9",
   "metadata": {},
   "outputs": [],
   "source": [
    "dc_temp.drop( dc_temp[ dc_temp['Year'] < 2000 ].index , inplace=True)"
   ]
  },
  {
   "cell_type": "code",
   "execution_count": 84,
   "id": "09298d7e",
   "metadata": {},
   "outputs": [],
   "source": [
    "dc_temp.drop( dc_temp[ dc_temp['Year'] > 2018 ].index , inplace=True)"
   ]
  },
  {
   "cell_type": "code",
   "execution_count": 85,
   "id": "ed227afd",
   "metadata": {},
   "outputs": [],
   "source": [
    "dc_temp = dc_temp.reset_index(drop=True)"
   ]
  },
  {
   "cell_type": "code",
   "execution_count": 87,
   "id": "21838fde",
   "metadata": {},
   "outputs": [],
   "source": [
    "dc_temp_avg = dc_temp.groupby(['State', 'Year']).agg({'Value': ['mean']}).reset_index()"
   ]
  },
  {
   "cell_type": "code",
   "execution_count": 91,
   "id": "65848e52",
   "metadata": {},
   "outputs": [],
   "source": [
    "dc_temp_avg = dc_temp_avg.rename(columns={\"Value\": \"avg_temp\"})"
   ]
  },
  {
   "cell_type": "code",
   "execution_count": 92,
   "id": "6f50d2d5",
   "metadata": {},
   "outputs": [
    {
     "data": {
      "text/html": [
       "<div>\n",
       "<style scoped>\n",
       "    .dataframe tbody tr th:only-of-type {\n",
       "        vertical-align: middle;\n",
       "    }\n",
       "\n",
       "    .dataframe tbody tr th {\n",
       "        vertical-align: top;\n",
       "    }\n",
       "\n",
       "    .dataframe thead tr th {\n",
       "        text-align: left;\n",
       "    }\n",
       "</style>\n",
       "<table border=\"1\" class=\"dataframe\">\n",
       "  <thead>\n",
       "    <tr>\n",
       "      <th></th>\n",
       "      <th>State</th>\n",
       "      <th>Year</th>\n",
       "      <th>avg_temp</th>\n",
       "    </tr>\n",
       "    <tr>\n",
       "      <th></th>\n",
       "      <th></th>\n",
       "      <th></th>\n",
       "      <th>mean</th>\n",
       "    </tr>\n",
       "  </thead>\n",
       "  <tbody>\n",
       "    <tr>\n",
       "      <th>0</th>\n",
       "      <td>District of Columbia</td>\n",
       "      <td>2000</td>\n",
       "      <td>53.966667</td>\n",
       "    </tr>\n",
       "    <tr>\n",
       "      <th>1</th>\n",
       "      <td>District of Columbia</td>\n",
       "      <td>2001</td>\n",
       "      <td>55.391667</td>\n",
       "    </tr>\n",
       "    <tr>\n",
       "      <th>2</th>\n",
       "      <td>District of Columbia</td>\n",
       "      <td>2002</td>\n",
       "      <td>56.066667</td>\n",
       "    </tr>\n",
       "    <tr>\n",
       "      <th>3</th>\n",
       "      <td>District of Columbia</td>\n",
       "      <td>2003</td>\n",
       "      <td>53.750000</td>\n",
       "    </tr>\n",
       "    <tr>\n",
       "      <th>4</th>\n",
       "      <td>District of Columbia</td>\n",
       "      <td>2004</td>\n",
       "      <td>55.133333</td>\n",
       "    </tr>\n",
       "    <tr>\n",
       "      <th>5</th>\n",
       "      <td>District of Columbia</td>\n",
       "      <td>2005</td>\n",
       "      <td>55.375000</td>\n",
       "    </tr>\n",
       "    <tr>\n",
       "      <th>6</th>\n",
       "      <td>District of Columbia</td>\n",
       "      <td>2006</td>\n",
       "      <td>56.616667</td>\n",
       "    </tr>\n",
       "    <tr>\n",
       "      <th>7</th>\n",
       "      <td>District of Columbia</td>\n",
       "      <td>2007</td>\n",
       "      <td>56.416667</td>\n",
       "    </tr>\n",
       "    <tr>\n",
       "      <th>8</th>\n",
       "      <td>District of Columbia</td>\n",
       "      <td>2008</td>\n",
       "      <td>55.341667</td>\n",
       "    </tr>\n",
       "    <tr>\n",
       "      <th>9</th>\n",
       "      <td>District of Columbia</td>\n",
       "      <td>2009</td>\n",
       "      <td>55.291667</td>\n",
       "    </tr>\n",
       "    <tr>\n",
       "      <th>10</th>\n",
       "      <td>District of Columbia</td>\n",
       "      <td>2010</td>\n",
       "      <td>56.283333</td>\n",
       "    </tr>\n",
       "    <tr>\n",
       "      <th>11</th>\n",
       "      <td>District of Columbia</td>\n",
       "      <td>2011</td>\n",
       "      <td>56.900000</td>\n",
       "    </tr>\n",
       "    <tr>\n",
       "      <th>12</th>\n",
       "      <td>District of Columbia</td>\n",
       "      <td>2012</td>\n",
       "      <td>57.858333</td>\n",
       "    </tr>\n",
       "    <tr>\n",
       "      <th>13</th>\n",
       "      <td>District of Columbia</td>\n",
       "      <td>2013</td>\n",
       "      <td>55.416667</td>\n",
       "    </tr>\n",
       "    <tr>\n",
       "      <th>14</th>\n",
       "      <td>District of Columbia</td>\n",
       "      <td>2014</td>\n",
       "      <td>53.050000</td>\n",
       "    </tr>\n",
       "    <tr>\n",
       "      <th>15</th>\n",
       "      <td>District of Columbia</td>\n",
       "      <td>2015</td>\n",
       "      <td>55.708333</td>\n",
       "    </tr>\n",
       "    <tr>\n",
       "      <th>16</th>\n",
       "      <td>District of Columbia</td>\n",
       "      <td>2016</td>\n",
       "      <td>57.133333</td>\n",
       "    </tr>\n",
       "    <tr>\n",
       "      <th>17</th>\n",
       "      <td>District of Columbia</td>\n",
       "      <td>2017</td>\n",
       "      <td>57.216667</td>\n",
       "    </tr>\n",
       "    <tr>\n",
       "      <th>18</th>\n",
       "      <td>District of Columbia</td>\n",
       "      <td>2018</td>\n",
       "      <td>56.241667</td>\n",
       "    </tr>\n",
       "  </tbody>\n",
       "</table>\n",
       "</div>"
      ],
      "text/plain": [
       "                   State  Year   avg_temp\n",
       "                                     mean\n",
       "0   District of Columbia  2000  53.966667\n",
       "1   District of Columbia  2001  55.391667\n",
       "2   District of Columbia  2002  56.066667\n",
       "3   District of Columbia  2003  53.750000\n",
       "4   District of Columbia  2004  55.133333\n",
       "5   District of Columbia  2005  55.375000\n",
       "6   District of Columbia  2006  56.616667\n",
       "7   District of Columbia  2007  56.416667\n",
       "8   District of Columbia  2008  55.341667\n",
       "9   District of Columbia  2009  55.291667\n",
       "10  District of Columbia  2010  56.283333\n",
       "11  District of Columbia  2011  56.900000\n",
       "12  District of Columbia  2012  57.858333\n",
       "13  District of Columbia  2013  55.416667\n",
       "14  District of Columbia  2014  53.050000\n",
       "15  District of Columbia  2015  55.708333\n",
       "16  District of Columbia  2016  57.133333\n",
       "17  District of Columbia  2017  57.216667\n",
       "18  District of Columbia  2018  56.241667"
      ]
     },
     "execution_count": 92,
     "metadata": {},
     "output_type": "execute_result"
    }
   ],
   "source": [
    "dc_temp_avg"
   ]
  },
  {
   "cell_type": "code",
   "execution_count": 127,
   "id": "29ef3b30",
   "metadata": {},
   "outputs": [],
   "source": [
    "avgtemp = temp_data_avg.append(dc_temp_avg, ignore_index = True)"
   ]
  },
  {
   "cell_type": "code",
   "execution_count": 112,
   "id": "c62d1b89",
   "metadata": {},
   "outputs": [],
   "source": [
    "alas_temp = pd.read_excel(r'/Users/sarahsiddiqui/Desktop/classes/529/project/alaska.xlsx')"
   ]
  },
  {
   "cell_type": "code",
   "execution_count": 113,
   "id": "be26855b",
   "metadata": {},
   "outputs": [],
   "source": [
    "alas_temp['year_month'] = alas_temp['Date'].astype(str)"
   ]
  },
  {
   "cell_type": "code",
   "execution_count": 114,
   "id": "7d3ba3f9",
   "metadata": {},
   "outputs": [],
   "source": [
    "alas_temp['Year'] = alas_temp['year_month'].str[0:4]\n",
    "alas_temp['Month'] = alas_temp['year_month'].str[4:6]"
   ]
  },
  {
   "cell_type": "code",
   "execution_count": 115,
   "id": "fdeb9258",
   "metadata": {},
   "outputs": [],
   "source": [
    "alas_temp.drop('Date', axis=1, inplace=True)"
   ]
  },
  {
   "cell_type": "code",
   "execution_count": 116,
   "id": "951ab3f4",
   "metadata": {},
   "outputs": [],
   "source": [
    "alas_temp.drop('year_month', axis=1, inplace=True)"
   ]
  },
  {
   "cell_type": "code",
   "execution_count": 117,
   "id": "036d249e",
   "metadata": {},
   "outputs": [],
   "source": [
    "alas_temp['Year'] = dc_temp['Year'].astype(int)"
   ]
  },
  {
   "cell_type": "code",
   "execution_count": 118,
   "id": "c292a695",
   "metadata": {},
   "outputs": [],
   "source": [
    "alas_temp['Month'] = dc_temp['Month'].astype(int)"
   ]
  },
  {
   "cell_type": "code",
   "execution_count": 119,
   "id": "944dd1af",
   "metadata": {},
   "outputs": [],
   "source": [
    "alas_temp.drop( alas_temp[ alas_temp['Year'] < 2000 ].index , inplace=True)"
   ]
  },
  {
   "cell_type": "code",
   "execution_count": 120,
   "id": "59a984c7",
   "metadata": {},
   "outputs": [],
   "source": [
    "alas_temp.drop( alas_temp[ alas_temp['Year'] > 2018 ].index , inplace=True)"
   ]
  },
  {
   "cell_type": "code",
   "execution_count": 121,
   "id": "a3ad332d",
   "metadata": {},
   "outputs": [],
   "source": [
    "alas_temp = alas_temp.reset_index(drop=True)"
   ]
  },
  {
   "cell_type": "code",
   "execution_count": 122,
   "id": "56bf2eb9",
   "metadata": {},
   "outputs": [],
   "source": [
    "alas_temp_1 = alas_temp.groupby(['State', 'Year']).agg({'Value': ['mean']}).reset_index()"
   ]
  },
  {
   "cell_type": "code",
   "execution_count": 162,
   "id": "9d1f6b58",
   "metadata": {},
   "outputs": [],
   "source": [
    "alas_temp_3 = alas_temp_1.rename(columns={\"Value\": \"avg_temp\"})"
   ]
  },
  {
   "cell_type": "code",
   "execution_count": 163,
   "id": "15b2e168",
   "metadata": {},
   "outputs": [],
   "source": [
    "avgtemp_3 = avgtemp.append(alas_temp_1, ignore_index = True)"
   ]
  },
  {
   "cell_type": "code",
   "execution_count": 166,
   "id": "87948846",
   "metadata": {},
   "outputs": [
    {
     "data": {
      "text/html": [
       "<div>\n",
       "<style scoped>\n",
       "    .dataframe tbody tr th:only-of-type {\n",
       "        vertical-align: middle;\n",
       "    }\n",
       "\n",
       "    .dataframe tbody tr th {\n",
       "        vertical-align: top;\n",
       "    }\n",
       "\n",
       "    .dataframe thead th {\n",
       "        text-align: right;\n",
       "    }\n",
       "</style>\n",
       "<table border=\"1\" class=\"dataframe\">\n",
       "  <thead>\n",
       "    <tr style=\"text-align: right;\">\n",
       "      <th></th>\n",
       "      <th>State</th>\n",
       "      <th>Year</th>\n",
       "      <th>avg_temp_mean</th>\n",
       "    </tr>\n",
       "  </thead>\n",
       "  <tbody>\n",
       "    <tr>\n",
       "      <th>0</th>\n",
       "      <td>Alabama</td>\n",
       "      <td>2000.0</td>\n",
       "      <td>63.566667</td>\n",
       "    </tr>\n",
       "    <tr>\n",
       "      <th>1</th>\n",
       "      <td>Alabama</td>\n",
       "      <td>2001.0</td>\n",
       "      <td>63.033333</td>\n",
       "    </tr>\n",
       "    <tr>\n",
       "      <th>2</th>\n",
       "      <td>Alabama</td>\n",
       "      <td>2002.0</td>\n",
       "      <td>63.575000</td>\n",
       "    </tr>\n",
       "    <tr>\n",
       "      <th>3</th>\n",
       "      <td>Alabama</td>\n",
       "      <td>2003.0</td>\n",
       "      <td>62.733333</td>\n",
       "    </tr>\n",
       "    <tr>\n",
       "      <th>4</th>\n",
       "      <td>Alabama</td>\n",
       "      <td>2004.0</td>\n",
       "      <td>63.333333</td>\n",
       "    </tr>\n",
       "    <tr>\n",
       "      <th>...</th>\n",
       "      <td>...</td>\n",
       "      <td>...</td>\n",
       "      <td>...</td>\n",
       "    </tr>\n",
       "    <tr>\n",
       "      <th>945</th>\n",
       "      <td>Alaska</td>\n",
       "      <td>2014.0</td>\n",
       "      <td>24.750000</td>\n",
       "    </tr>\n",
       "    <tr>\n",
       "      <th>946</th>\n",
       "      <td>Alaska</td>\n",
       "      <td>2015.0</td>\n",
       "      <td>29.208333</td>\n",
       "    </tr>\n",
       "    <tr>\n",
       "      <th>947</th>\n",
       "      <td>Alaska</td>\n",
       "      <td>2016.0</td>\n",
       "      <td>26.941667</td>\n",
       "    </tr>\n",
       "    <tr>\n",
       "      <th>948</th>\n",
       "      <td>Alaska</td>\n",
       "      <td>2017.0</td>\n",
       "      <td>27.191667</td>\n",
       "    </tr>\n",
       "    <tr>\n",
       "      <th>949</th>\n",
       "      <td>Alaska</td>\n",
       "      <td>2018.0</td>\n",
       "      <td>27.141667</td>\n",
       "    </tr>\n",
       "  </tbody>\n",
       "</table>\n",
       "<p>950 rows × 3 columns</p>\n",
       "</div>"
      ],
      "text/plain": [
       "       State    Year  avg_temp_mean\n",
       "0    Alabama  2000.0      63.566667\n",
       "1    Alabama  2001.0      63.033333\n",
       "2    Alabama  2002.0      63.575000\n",
       "3    Alabama  2003.0      62.733333\n",
       "4    Alabama  2004.0      63.333333\n",
       "..       ...     ...            ...\n",
       "945   Alaska  2014.0      24.750000\n",
       "946   Alaska  2015.0      29.208333\n",
       "947   Alaska  2016.0      26.941667\n",
       "948   Alaska  2017.0      27.191667\n",
       "949   Alaska  2018.0      27.141667\n",
       "\n",
       "[950 rows x 3 columns]"
      ]
     },
     "execution_count": 166,
     "metadata": {},
     "output_type": "execute_result"
    }
   ],
   "source": [
    "avgtemp_3"
   ]
  },
  {
   "cell_type": "code",
   "execution_count": 138,
   "id": "0877c9d4",
   "metadata": {},
   "outputs": [],
   "source": [
    "haw_temp = pd.read_excel(r'/Users/sarahsiddiqui/Desktop/classes/529/project/newhaw.xlsx')"
   ]
  },
  {
   "cell_type": "code",
   "execution_count": 148,
   "id": "83b56747",
   "metadata": {},
   "outputs": [],
   "source": [
    "haw_temp = haw_temp.rename(columns={\"avg_temp mean\": \"avg_temp_mean\"})"
   ]
  },
  {
   "cell_type": "code",
   "execution_count": 155,
   "id": "d6082ba2",
   "metadata": {},
   "outputs": [],
   "source": [
    "haw_temp  = haw_temp .iloc[1: , :]"
   ]
  },
  {
   "cell_type": "code",
   "execution_count": 156,
   "id": "7f766a47",
   "metadata": {},
   "outputs": [
    {
     "data": {
      "text/html": [
       "<div>\n",
       "<style scoped>\n",
       "    .dataframe tbody tr th:only-of-type {\n",
       "        vertical-align: middle;\n",
       "    }\n",
       "\n",
       "    .dataframe tbody tr th {\n",
       "        vertical-align: top;\n",
       "    }\n",
       "\n",
       "    .dataframe thead th {\n",
       "        text-align: right;\n",
       "    }\n",
       "</style>\n",
       "<table border=\"1\" class=\"dataframe\">\n",
       "  <thead>\n",
       "    <tr style=\"text-align: right;\">\n",
       "      <th></th>\n",
       "      <th>State</th>\n",
       "      <th>Year</th>\n",
       "      <th>avg_temp_mean</th>\n",
       "    </tr>\n",
       "  </thead>\n",
       "  <tbody>\n",
       "    <tr>\n",
       "      <th>1</th>\n",
       "      <td>Hawaii</td>\n",
       "      <td>2000.0</td>\n",
       "      <td>75.6</td>\n",
       "    </tr>\n",
       "    <tr>\n",
       "      <th>2</th>\n",
       "      <td>Hawaii</td>\n",
       "      <td>2001.0</td>\n",
       "      <td>75.95</td>\n",
       "    </tr>\n",
       "    <tr>\n",
       "      <th>3</th>\n",
       "      <td>Hawaii</td>\n",
       "      <td>2002.0</td>\n",
       "      <td>75.825</td>\n",
       "    </tr>\n",
       "    <tr>\n",
       "      <th>4</th>\n",
       "      <td>Hawaii</td>\n",
       "      <td>2003.0</td>\n",
       "      <td>76.425</td>\n",
       "    </tr>\n",
       "    <tr>\n",
       "      <th>5</th>\n",
       "      <td>Hawaii</td>\n",
       "      <td>2004.0</td>\n",
       "      <td>76.625</td>\n",
       "    </tr>\n",
       "    <tr>\n",
       "      <th>6</th>\n",
       "      <td>Hawaii</td>\n",
       "      <td>2005.0</td>\n",
       "      <td>76.3</td>\n",
       "    </tr>\n",
       "    <tr>\n",
       "      <th>7</th>\n",
       "      <td>Hawaii</td>\n",
       "      <td>2006.0</td>\n",
       "      <td>75.85</td>\n",
       "    </tr>\n",
       "    <tr>\n",
       "      <th>8</th>\n",
       "      <td>Hawaii</td>\n",
       "      <td>2007.0</td>\n",
       "      <td>76.25</td>\n",
       "    </tr>\n",
       "    <tr>\n",
       "      <th>9</th>\n",
       "      <td>Hawaii</td>\n",
       "      <td>2008.0</td>\n",
       "      <td>75.65</td>\n",
       "    </tr>\n",
       "    <tr>\n",
       "      <th>10</th>\n",
       "      <td>Hawaii</td>\n",
       "      <td>2009.0</td>\n",
       "      <td>74.975</td>\n",
       "    </tr>\n",
       "    <tr>\n",
       "      <th>11</th>\n",
       "      <td>Hawaii</td>\n",
       "      <td>2010.0</td>\n",
       "      <td>75.625</td>\n",
       "    </tr>\n",
       "    <tr>\n",
       "      <th>12</th>\n",
       "      <td>Hawaii</td>\n",
       "      <td>2011.0</td>\n",
       "      <td>76</td>\n",
       "    </tr>\n",
       "    <tr>\n",
       "      <th>13</th>\n",
       "      <td>Hawaii</td>\n",
       "      <td>2012.0</td>\n",
       "      <td>75.5</td>\n",
       "    </tr>\n",
       "    <tr>\n",
       "      <th>14</th>\n",
       "      <td>Hawaii</td>\n",
       "      <td>2013.0</td>\n",
       "      <td>75.775</td>\n",
       "    </tr>\n",
       "    <tr>\n",
       "      <th>15</th>\n",
       "      <td>Hawaii</td>\n",
       "      <td>2014.0</td>\n",
       "      <td>76.425</td>\n",
       "    </tr>\n",
       "    <tr>\n",
       "      <th>16</th>\n",
       "      <td>Hawaii</td>\n",
       "      <td>2015.0</td>\n",
       "      <td>77.3</td>\n",
       "    </tr>\n",
       "    <tr>\n",
       "      <th>17</th>\n",
       "      <td>Hawaii</td>\n",
       "      <td>2016.0</td>\n",
       "      <td>76.775</td>\n",
       "    </tr>\n",
       "    <tr>\n",
       "      <th>18</th>\n",
       "      <td>Hawaii</td>\n",
       "      <td>2017.0</td>\n",
       "      <td>76.525</td>\n",
       "    </tr>\n",
       "    <tr>\n",
       "      <th>19</th>\n",
       "      <td>Hawaii</td>\n",
       "      <td>2018.0</td>\n",
       "      <td>76.95</td>\n",
       "    </tr>\n",
       "  </tbody>\n",
       "</table>\n",
       "</div>"
      ],
      "text/plain": [
       "     State    Year avg_temp_mean\n",
       "1   Hawaii  2000.0          75.6\n",
       "2   Hawaii  2001.0         75.95\n",
       "3   Hawaii  2002.0        75.825\n",
       "4   Hawaii  2003.0        76.425\n",
       "5   Hawaii  2004.0        76.625\n",
       "6   Hawaii  2005.0          76.3\n",
       "7   Hawaii  2006.0         75.85\n",
       "8   Hawaii  2007.0         76.25\n",
       "9   Hawaii  2008.0         75.65\n",
       "10  Hawaii  2009.0        74.975\n",
       "11  Hawaii  2010.0        75.625\n",
       "12  Hawaii  2011.0            76\n",
       "13  Hawaii  2012.0          75.5\n",
       "14  Hawaii  2013.0        75.775\n",
       "15  Hawaii  2014.0        76.425\n",
       "16  Hawaii  2015.0          77.3\n",
       "17  Hawaii  2016.0        76.775\n",
       "18  Hawaii  2017.0        76.525\n",
       "19  Hawaii  2018.0         76.95"
      ]
     },
     "execution_count": 156,
     "metadata": {},
     "output_type": "execute_result"
    }
   ],
   "source": [
    "haw_temp "
   ]
  },
  {
   "cell_type": "code",
   "execution_count": 165,
   "id": "32f0fd28",
   "metadata": {},
   "outputs": [],
   "source": [
    "avgtemp_3.columns = avgtemp_3.columns.map(lambda c: ('_' if c[1] else '').join(c))"
   ]
  },
  {
   "cell_type": "code",
   "execution_count": 167,
   "id": "daca7519",
   "metadata": {},
   "outputs": [],
   "source": [
    "avgtemp_4 = avgtemp_3.append(haw_temp, ignore_index = True)"
   ]
  },
  {
   "cell_type": "code",
   "execution_count": 168,
   "id": "ef97fb88",
   "metadata": {},
   "outputs": [],
   "source": [
    "avgtemp_4 = avgtemp_4.reset_index(drop=True)"
   ]
  },
  {
   "cell_type": "code",
   "execution_count": null,
   "id": "1b5b3744",
   "metadata": {},
   "outputs": [],
   "source": []
  },
  {
   "cell_type": "code",
   "execution_count": 174,
   "id": "af547f96",
   "metadata": {},
   "outputs": [],
   "source": [
    "avgtemp_4 = avgtemp_4.sort_values(by=['State'], ascending = True)"
   ]
  },
  {
   "cell_type": "code",
   "execution_count": null,
   "id": "d4434601",
   "metadata": {},
   "outputs": [],
   "source": []
  },
  {
   "cell_type": "code",
   "execution_count": 177,
   "id": "8b01a8a7",
   "metadata": {},
   "outputs": [],
   "source": [
    "avgtemp_4 = avgtemp_4.reset_index(drop=True)"
   ]
  },
  {
   "cell_type": "code",
   "execution_count": 178,
   "id": "3e0fc103",
   "metadata": {},
   "outputs": [],
   "source": [
    "avgtemp_4.to_excel(r'/Users/sarahsiddiqui/Desktop/classes/529/project/temp_data_avg.xlsx')"
   ]
  },
  {
   "cell_type": "code",
   "execution_count": 179,
   "id": "89e8d59b",
   "metadata": {},
   "outputs": [],
   "source": [
    "merge_file = pd.read_excel(r'/Users/sarahsiddiqui/Desktop/classes/529/project/alldatamerge.xlsx')"
   ]
  },
  {
   "cell_type": "code",
   "execution_count": 180,
   "id": "97a515b3",
   "metadata": {},
   "outputs": [],
   "source": [
    "merge_1 =  merge_file.merge(avgtemp_4, how = 'inner', on = ['State', 'Year'])"
   ]
  },
  {
   "cell_type": "code",
   "execution_count": 182,
   "id": "9f7fccc2",
   "metadata": {},
   "outputs": [],
   "source": []
  },
  {
   "cell_type": "code",
   "execution_count": 184,
   "id": "f09fa4b8",
   "metadata": {},
   "outputs": [],
   "source": [
    "merge_1['WCI'] = np.where((merge_1['State'] == 'California') & (merge_1['Year'] >= 2013), 1, 0 )"
   ]
  },
  {
   "cell_type": "code",
   "execution_count": 187,
   "id": "398ec5e0",
   "metadata": {},
   "outputs": [],
   "source": [
    "merge_1['Policy'] = np.where((merge_1['RGGI Adopt'] == 1) | (merge_1['WCI'] == 1), 1, 0 )"
   ]
  },
  {
   "cell_type": "code",
   "execution_count": 190,
   "id": "d40885b8",
   "metadata": {},
   "outputs": [],
   "source": [
    "merge_1.to_excel(r'/Users/sarahsiddiqui/Desktop/classes/529/project/data_06_12.xlsx', index = False)"
   ]
  }
 ],
 "metadata": {
  "kernelspec": {
   "display_name": "Python 3",
   "language": "python",
   "name": "python3"
  },
  "language_info": {
   "codemirror_mode": {
    "name": "ipython",
    "version": 3
   },
   "file_extension": ".py",
   "mimetype": "text/x-python",
   "name": "python",
   "nbconvert_exporter": "python",
   "pygments_lexer": "ipython3",
   "version": "3.8.8"
  }
 },
 "nbformat": 4,
 "nbformat_minor": 5
}
