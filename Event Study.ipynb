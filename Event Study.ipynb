{
 "cells": [
  {
   "cell_type": "code",
   "execution_count": 1,
   "id": "9bb1a6eb",
   "metadata": {},
   "outputs": [],
   "source": [
    "import pandas as pd"
   ]
  },
  {
   "cell_type": "code",
   "execution_count": 2,
   "id": "53a6caa7",
   "metadata": {},
   "outputs": [],
   "source": [
    "eventstudy = pd.read_excel (r'/Users/sarahsiddiqui/Desktop/classes/529/project/policy sheet/event study.xlsx')"
   ]
  },
  {
   "cell_type": "code",
   "execution_count": 3,
   "id": "abde84f6",
   "metadata": {},
   "outputs": [],
   "source": [
    "eventstudy = pd.melt(eventstudy, id_vars = ['State'] , value_vars = None, var_name ='Year', value_name ='eventstudy') "
   ]
  },
  {
   "cell_type": "code",
   "execution_count": 4,
   "id": "8d099ce6",
   "metadata": {},
   "outputs": [],
   "source": [
    "eventstudy = eventstudy.sort_values(by=['State','Year'])"
   ]
  },
  {
   "cell_type": "markdown",
   "id": "df33f0ae",
   "metadata": {},
   "source": [
    "Remove \".\" before each state name "
   ]
  },
  {
   "cell_type": "code",
   "execution_count": 5,
   "id": "a4d87892",
   "metadata": {},
   "outputs": [],
   "source": [
    "eventstudy['State'] = eventstudy['State'].str.split('.', n=1).str.get(-1) "
   ]
  },
  {
   "cell_type": "code",
   "execution_count": 6,
   "id": "cbcff26f",
   "metadata": {},
   "outputs": [],
   "source": [
    "eventstudy.to_excel(r'/Users/sarahsiddiqui/Desktop/classes/529/project/event_study.xlsx', index = False)"
   ]
  },
  {
   "cell_type": "code",
   "execution_count": 7,
   "id": "2f64aeb7",
   "metadata": {},
   "outputs": [
    {
     "data": {
      "text/html": [
       "<div>\n",
       "<style scoped>\n",
       "    .dataframe tbody tr th:only-of-type {\n",
       "        vertical-align: middle;\n",
       "    }\n",
       "\n",
       "    .dataframe tbody tr th {\n",
       "        vertical-align: top;\n",
       "    }\n",
       "\n",
       "    .dataframe thead th {\n",
       "        text-align: right;\n",
       "    }\n",
       "</style>\n",
       "<table border=\"1\" class=\"dataframe\">\n",
       "  <thead>\n",
       "    <tr style=\"text-align: right;\">\n",
       "      <th></th>\n",
       "      <th>State</th>\n",
       "      <th>Year</th>\n",
       "      <th>eventstudy</th>\n",
       "    </tr>\n",
       "  </thead>\n",
       "  <tbody>\n",
       "    <tr>\n",
       "      <th>0</th>\n",
       "      <td>Alabama</td>\n",
       "      <td>2000</td>\n",
       "      <td>0</td>\n",
       "    </tr>\n",
       "    <tr>\n",
       "      <th>51</th>\n",
       "      <td>Alabama</td>\n",
       "      <td>2001</td>\n",
       "      <td>0</td>\n",
       "    </tr>\n",
       "    <tr>\n",
       "      <th>102</th>\n",
       "      <td>Alabama</td>\n",
       "      <td>2002</td>\n",
       "      <td>0</td>\n",
       "    </tr>\n",
       "    <tr>\n",
       "      <th>153</th>\n",
       "      <td>Alabama</td>\n",
       "      <td>2003</td>\n",
       "      <td>0</td>\n",
       "    </tr>\n",
       "    <tr>\n",
       "      <th>204</th>\n",
       "      <td>Alabama</td>\n",
       "      <td>2004</td>\n",
       "      <td>0</td>\n",
       "    </tr>\n",
       "    <tr>\n",
       "      <th>...</th>\n",
       "      <td>...</td>\n",
       "      <td>...</td>\n",
       "      <td>...</td>\n",
       "    </tr>\n",
       "    <tr>\n",
       "      <th>764</th>\n",
       "      <td>Wyoming</td>\n",
       "      <td>2014</td>\n",
       "      <td>0</td>\n",
       "    </tr>\n",
       "    <tr>\n",
       "      <th>815</th>\n",
       "      <td>Wyoming</td>\n",
       "      <td>2015</td>\n",
       "      <td>0</td>\n",
       "    </tr>\n",
       "    <tr>\n",
       "      <th>866</th>\n",
       "      <td>Wyoming</td>\n",
       "      <td>2016</td>\n",
       "      <td>0</td>\n",
       "    </tr>\n",
       "    <tr>\n",
       "      <th>917</th>\n",
       "      <td>Wyoming</td>\n",
       "      <td>2017</td>\n",
       "      <td>0</td>\n",
       "    </tr>\n",
       "    <tr>\n",
       "      <th>968</th>\n",
       "      <td>Wyoming</td>\n",
       "      <td>2018</td>\n",
       "      <td>0</td>\n",
       "    </tr>\n",
       "  </tbody>\n",
       "</table>\n",
       "<p>969 rows × 3 columns</p>\n",
       "</div>"
      ],
      "text/plain": [
       "       State  Year  eventstudy\n",
       "0    Alabama  2000           0\n",
       "51   Alabama  2001           0\n",
       "102  Alabama  2002           0\n",
       "153  Alabama  2003           0\n",
       "204  Alabama  2004           0\n",
       "..       ...   ...         ...\n",
       "764  Wyoming  2014           0\n",
       "815  Wyoming  2015           0\n",
       "866  Wyoming  2016           0\n",
       "917  Wyoming  2017           0\n",
       "968  Wyoming  2018           0\n",
       "\n",
       "[969 rows x 3 columns]"
      ]
     },
     "execution_count": 7,
     "metadata": {},
     "output_type": "execute_result"
    }
   ],
   "source": [
    "eventstudy"
   ]
  }
 ],
 "metadata": {
  "kernelspec": {
   "display_name": "Python 3",
   "language": "python",
   "name": "python3"
  },
  "language_info": {
   "codemirror_mode": {
    "name": "ipython",
    "version": 3
   },
   "file_extension": ".py",
   "mimetype": "text/x-python",
   "name": "python",
   "nbconvert_exporter": "python",
   "pygments_lexer": "ipython3",
   "version": "3.8.8"
  }
 },
 "nbformat": 4,
 "nbformat_minor": 5
}
