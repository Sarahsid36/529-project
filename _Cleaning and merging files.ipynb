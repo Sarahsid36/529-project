{
 "cells": [
  {
   "cell_type": "code",
   "execution_count": 1,
   "id": "15755da1",
   "metadata": {},
   "outputs": [],
   "source": [
    "import pandas as pd\n",
    "\n",
    "policy_spread = pd.read_excel (r'/Users/sarahsiddiqui/Desktop/classes/529/project/policy sheet/policy sheet.xlsx')\n"
   ]
  },
  {
   "cell_type": "code",
   "execution_count": 2,
   "id": "dab7e49d",
   "metadata": {},
   "outputs": [],
   "source": [
    "policy_spread_1 = pd.melt(policy_spread, id_vars = ['State'] , value_vars = None, var_name ='Year', value_name ='RGGI Adopt') "
   ]
  },
  {
   "cell_type": "code",
   "execution_count": 88,
   "id": "6b8a1aab",
   "metadata": {},
   "outputs": [
    {
     "name": "stdout",
     "output_type": "stream",
     "text": [
      "       State  Year  Per Capita energy related emissions  \\\n",
      "0    Alabama  2000                            32.097687   \n",
      "1    Alabama  2001                            30.044993   \n",
      "2    Alabama  2002                            31.078369   \n",
      "3    Alabama  2003                            31.146559   \n",
      "4    Alabama  2004                            31.462079   \n",
      "..       ...   ...                                  ...   \n",
      "964  Wyoming  2014                           112.744258   \n",
      "965  Wyoming  2015                           108.894718   \n",
      "966  Wyoming  2016                           104.380515   \n",
      "967  Wyoming  2017                           107.845353   \n",
      "968  Wyoming  2018                           109.913935   \n",
      "\n",
      "     Carbon Intensity of energy supply  Carbon emissions adjusted  \\\n",
      "0                            58.980063                 143.449839   \n",
      "1                            58.595615                 134.985163   \n",
      "2                            58.387879                 140.003374   \n",
      "3                            58.176501                 140.866652   \n",
      "4                            57.504820                 143.567133   \n",
      "..                                 ...                        ...   \n",
      "964                          76.445675                  65.724561   \n",
      "965                          77.261528                  63.810667   \n",
      "966                          76.070089                  60.965014   \n",
      "967                          75.180745                  62.358653   \n",
      "968                          75.131093                  63.442856   \n",
      "\n",
      "     Carbon Intensity Economy  Population  \n",
      "0                  783.255236     4452173  \n",
      "1                  707.835028     4467634  \n",
      "2                  709.996611     4480089  \n",
      "3                  687.646242     4503491  \n",
      "4                  675.106584     4530729  \n",
      "..                        ...         ...  \n",
      "964               1058.772596      582531  \n",
      "965                981.994022      585613  \n",
      "966               1008.689381      584215  \n",
      "967               1061.552122      578931  \n",
      "968               1082.639053      577601  \n",
      "\n",
      "[969 rows x 7 columns]\n"
     ]
    }
   ],
   "source": [
    "print(merged_df_3)"
   ]
  },
  {
   "cell_type": "code",
   "execution_count": 8,
   "id": "3be36316",
   "metadata": {},
   "outputs": [],
   "source": [
    "policy_spread_2 = policy_spread_1.sort_values(by=['State','Year'])"
   ]
  },
  {
   "cell_type": "code",
   "execution_count": 9,
   "id": "852bb7de",
   "metadata": {},
   "outputs": [],
   "source": [
    "policy_spread_2[['delete this', 'State']] = policy_spread_2['State'].str.split('.', 1, expand=True)"
   ]
  },
  {
   "cell_type": "code",
   "execution_count": 12,
   "id": "df79fb53",
   "metadata": {},
   "outputs": [],
   "source": [
    "policy_spread_2.drop('delete this', axis=1, inplace=True)"
   ]
  },
  {
   "cell_type": "code",
   "execution_count": 14,
   "id": "ae93da95",
   "metadata": {},
   "outputs": [],
   "source": [
    "policy_spread_2.to_excel(r'/Users/sarahsiddiqui/Desktop/classes/529/project/policy_spread_2.xlsx', index = False)"
   ]
  },
  {
   "cell_type": "code",
   "execution_count": 24,
   "id": "3361db92",
   "metadata": {},
   "outputs": [],
   "source": [
    "pop_1 = pd.read_excel (r'//Users/sarahsiddiqui/Desktop/classes/529/project/population/nst-est2019-01.xlsx')"
   ]
  },
  {
   "cell_type": "markdown",
   "id": "2a6beb06",
   "metadata": {},
   "source": [
    "Importing column names as columns and Removing the first row"
   ]
  },
  {
   "cell_type": "code",
   "execution_count": 25,
   "id": "e9b74bc0",
   "metadata": {},
   "outputs": [],
   "source": [
    "pop_1.columns = pop_1.iloc[0]  "
   ]
  },
  {
   "cell_type": "code",
   "execution_count": 26,
   "id": "26ee6f71",
   "metadata": {},
   "outputs": [],
   "source": [
    "pop_1 = pop_1.iloc[1: , :]"
   ]
  },
  {
   "cell_type": "code",
   "execution_count": 42,
   "id": "6d64944d",
   "metadata": {},
   "outputs": [],
   "source": [
    "pop_1[['delete this', 'State']] = pop_1['State'].str.split('.', 1, expand=True)"
   ]
  },
  {
   "cell_type": "code",
   "execution_count": 43,
   "id": "7e1a23a1",
   "metadata": {},
   "outputs": [],
   "source": [
    "pop_1.drop('delete this', axis=1, inplace=True)"
   ]
  },
  {
   "cell_type": "code",
   "execution_count": 28,
   "id": "69449364",
   "metadata": {},
   "outputs": [],
   "source": [
    "pop_3 = pd.read_excel (r'/Users/sarahsiddiqui/Desktop/classes/529/project/population/st-est00int-01.xls')"
   ]
  },
  {
   "cell_type": "code",
   "execution_count": 38,
   "id": "ced86d43",
   "metadata": {},
   "outputs": [],
   "source": [
    "pop_3[['delete this', 'State']] = pop_3['State'].str.split('.', 1, expand=True)"
   ]
  },
  {
   "cell_type": "code",
   "execution_count": 39,
   "id": "462c988b",
   "metadata": {},
   "outputs": [],
   "source": [
    "pop_3.drop('delete this', axis=1, inplace=True)"
   ]
  },
  {
   "cell_type": "markdown",
   "id": "dbd9ba62",
   "metadata": {},
   "source": [
    "Merging both population data sets"
   ]
  },
  {
   "cell_type": "code",
   "execution_count": 52,
   "id": "d297b4b7",
   "metadata": {},
   "outputs": [],
   "source": [
    "merged_pop = pop_3.merge(pop_1,left_on='State',right_on='State',how='outer')"
   ]
  },
  {
   "cell_type": "code",
   "execution_count": 57,
   "id": "222be689",
   "metadata": {},
   "outputs": [],
   "source": [
    "merged_pop.drop(2019, axis=1, inplace=True)"
   ]
  },
  {
   "cell_type": "code",
   "execution_count": 58,
   "id": "1ae8fb6d",
   "metadata": {},
   "outputs": [],
   "source": [
    "merged_population_2 = pd.melt(merged_pop, id_vars = ['State'] , value_vars = None, var_name ='Year', value_name ='Population') "
   ]
  },
  {
   "cell_type": "code",
   "execution_count": 59,
   "id": "94489049",
   "metadata": {},
   "outputs": [],
   "source": [
    "merged_pop_2 =  merged_population_2.sort_values(by=['State','Year'])"
   ]
  },
  {
   "cell_type": "code",
   "execution_count": 60,
   "id": "4a616014",
   "metadata": {},
   "outputs": [],
   "source": [
    "population = merged_pop_2.reset_index(drop=True)"
   ]
  },
  {
   "cell_type": "code",
   "execution_count": 62,
   "id": "26d454ed",
   "metadata": {},
   "outputs": [],
   "source": [
    "population.to_excel(r'/Users/sarahsiddiqui/Desktop/classes/529/project/population/populationdata.xlsx', index = False)\n"
   ]
  },
  {
   "cell_type": "code",
   "execution_count": 63,
   "id": "b5927f39",
   "metadata": {},
   "outputs": [],
   "source": [
    "carinten_economy = pd.read_excel (r'/Users/sarahsiddiqui/Desktop/classes/529/project/untitled folder/Carbon intensity of the economy by state.xlsx')"
   ]
  },
  {
   "cell_type": "code",
   "execution_count": 64,
   "id": "2ae78067",
   "metadata": {},
   "outputs": [],
   "source": [
    " carinten_economy = carinten_economy.iloc[:51 , :]"
   ]
  },
  {
   "cell_type": "code",
   "execution_count": 65,
   "id": "136f096f",
   "metadata": {},
   "outputs": [],
   "source": [
    "inten_economy = pd.melt( carinten_economy, id_vars = ['State'] , value_vars = None, var_name ='Year', value_name ='Carbon Intensity Economy') "
   ]
  },
  {
   "cell_type": "code",
   "execution_count": 66,
   "id": "6607ec95",
   "metadata": {},
   "outputs": [],
   "source": [
    "inten_economy =  inten_economy.sort_values(by=['State','Year'])"
   ]
  },
  {
   "cell_type": "code",
   "execution_count": 67,
   "id": "4f2e5236",
   "metadata": {},
   "outputs": [],
   "source": [
    "inten_economy.to_excel(r'/Users/sarahsiddiqui/Desktop/classes/529/project/carbon intensity economy.xlsx', index = False)"
   ]
  },
  {
   "cell_type": "code",
   "execution_count": 68,
   "id": "2f3b5313",
   "metadata": {},
   "outputs": [],
   "source": [
    " per_capita = pd.read_excel (r'/Users/sarahsiddiqui/Desktop/classes/529/project/untitled folder/Per capita energy-related carbon dioxide emissions by state.xlsx')"
   ]
  },
  {
   "cell_type": "code",
   "execution_count": 70,
   "id": "11419b4a",
   "metadata": {},
   "outputs": [],
   "source": [
    "per_capita = per_capita.iloc[:51 , :]"
   ]
  },
  {
   "cell_type": "code",
   "execution_count": 71,
   "id": "01a32f10",
   "metadata": {},
   "outputs": [],
   "source": [
    "per_capita = pd.melt( per_capita, id_vars = ['State'] , value_vars = None, var_name ='Year', value_name ='Per Capita energy related emissions') "
   ]
  },
  {
   "cell_type": "code",
   "execution_count": 72,
   "id": "c8002aac",
   "metadata": {},
   "outputs": [],
   "source": [
    "per_capita =  per_capita.sort_values(by=['State','Year'])"
   ]
  },
  {
   "cell_type": "code",
   "execution_count": 74,
   "id": "1a430a40",
   "metadata": {},
   "outputs": [],
   "source": [
    "per_capita.to_excel(r'/Users/sarahsiddiqui/Desktop/classes/529/project/per capita.xlsx', index = False)\n"
   ]
  },
  {
   "cell_type": "code",
   "execution_count": 75,
   "id": "cb559b25",
   "metadata": {},
   "outputs": [],
   "source": [
    " carbon_year_adjusted = pd.read_excel (r'/Users/sarahsiddiqui/Desktop/classes/529/project/untitled folder/State energy-related carbon dioxide emissions by year, adjusted.xlsx')"
   ]
  },
  {
   "cell_type": "code",
   "execution_count": 76,
   "id": "9afe5467",
   "metadata": {},
   "outputs": [],
   "source": [
    "carbon_year_adjusted = pd.melt( carbon_year_adjusted, id_vars = ['State'] , value_vars = None, var_name ='Year', value_name ='Carbon emissions adjusted') "
   ]
  },
  {
   "cell_type": "code",
   "execution_count": 77,
   "id": "6b4074bd",
   "metadata": {},
   "outputs": [],
   "source": [
    "carbon_year_adjusted = carbon_year_adjusted.sort_values(by=['State','Year'])"
   ]
  },
  {
   "cell_type": "code",
   "execution_count": 78,
   "id": "9b4ef1e0",
   "metadata": {},
   "outputs": [],
   "source": [
    " carbon_year_adjusted.to_excel(r'/Users/sarahsiddiqui/Desktop/classes/529/project/carbon_year_adjusted.xlsx', index = False)"
   ]
  },
  {
   "cell_type": "code",
   "execution_count": 80,
   "id": "0b24fbfa",
   "metadata": {},
   "outputs": [],
   "source": [
    " carbon_inten_state = pd.read_excel (r'/Users/sarahsiddiqui/Desktop/classes/529/project/untitled folder/Carbon intensity of the energy supply by state.xlsx')"
   ]
  },
  {
   "cell_type": "code",
   "execution_count": 81,
   "id": "b0c644b6",
   "metadata": {},
   "outputs": [],
   "source": [
    "carbon_inten_state = carbon_inten_state.iloc[:51, :]"
   ]
  },
  {
   "cell_type": "code",
   "execution_count": 82,
   "id": "d054016c",
   "metadata": {},
   "outputs": [],
   "source": [
    "carbon_inten_state = pd.melt( carbon_inten_state, id_vars = ['State'] , value_vars = None, var_name ='Year', value_name ='Carbon Intensity of energy supply') \n",
    "carbon_inten_state = carbon_inten_state.sort_values(by=['State','Year'])"
   ]
  },
  {
   "cell_type": "code",
   "execution_count": 83,
   "id": "ce528f42",
   "metadata": {},
   "outputs": [],
   "source": [
    "carbon_inten_state.to_excel(r'/Users/sarahsiddiqui/Desktop/classes/529/project/carbon_inten_state.xlsx', index = False)"
   ]
  },
  {
   "cell_type": "code",
   "execution_count": 84,
   "id": "abdbdbd7",
   "metadata": {},
   "outputs": [],
   "source": [
    "merged_df = per_capita.merge(carbon_inten_state, how = 'inner', on = ['State', 'Year'])"
   ]
  },
  {
   "cell_type": "code",
   "execution_count": 85,
   "id": "6e40e5c9",
   "metadata": {},
   "outputs": [],
   "source": [
    "merged_df_1 =  merged_df.merge(carbon_year_adjusted, how = 'inner', on = ['State', 'Year'])"
   ]
  },
  {
   "cell_type": "code",
   "execution_count": 86,
   "id": "78b4b75e",
   "metadata": {},
   "outputs": [],
   "source": [
    "merged_df_2 = merged_df_1.merge(inten_economy, how = 'inner', on = ['State', 'Year'])"
   ]
  },
  {
   "cell_type": "code",
   "execution_count": 87,
   "id": "a741ea85",
   "metadata": {},
   "outputs": [],
   "source": [
    "merged_df_3 = merged_df_2.merge(population, how = 'inner', on = ['State', 'Year'])"
   ]
  },
  {
   "cell_type": "code",
   "execution_count": 89,
   "id": "933b28eb",
   "metadata": {},
   "outputs": [],
   "source": [
    "merged_df_4 = merged_df_3.merge(policy_spread_2, how = 'inner', on = ['State', 'Year'])"
   ]
  },
  {
   "cell_type": "code",
   "execution_count": 90,
   "id": "42ccef19",
   "metadata": {},
   "outputs": [
    {
     "data": {
      "text/html": [
       "<div>\n",
       "<style scoped>\n",
       "    .dataframe tbody tr th:only-of-type {\n",
       "        vertical-align: middle;\n",
       "    }\n",
       "\n",
       "    .dataframe tbody tr th {\n",
       "        vertical-align: top;\n",
       "    }\n",
       "\n",
       "    .dataframe thead th {\n",
       "        text-align: right;\n",
       "    }\n",
       "</style>\n",
       "<table border=\"1\" class=\"dataframe\">\n",
       "  <thead>\n",
       "    <tr style=\"text-align: right;\">\n",
       "      <th></th>\n",
       "      <th>State</th>\n",
       "      <th>Year</th>\n",
       "      <th>Per Capita energy related emissions</th>\n",
       "      <th>Carbon Intensity of energy supply</th>\n",
       "      <th>Carbon emissions adjusted</th>\n",
       "      <th>Carbon Intensity Economy</th>\n",
       "      <th>Population</th>\n",
       "      <th>RGGI Adopt</th>\n",
       "    </tr>\n",
       "  </thead>\n",
       "  <tbody>\n",
       "    <tr>\n",
       "      <th>0</th>\n",
       "      <td>Alabama</td>\n",
       "      <td>2000</td>\n",
       "      <td>32.097687</td>\n",
       "      <td>58.980063</td>\n",
       "      <td>143.449839</td>\n",
       "      <td>783.255236</td>\n",
       "      <td>4452173</td>\n",
       "      <td>0</td>\n",
       "    </tr>\n",
       "    <tr>\n",
       "      <th>1</th>\n",
       "      <td>Alabama</td>\n",
       "      <td>2001</td>\n",
       "      <td>30.044993</td>\n",
       "      <td>58.595615</td>\n",
       "      <td>134.985163</td>\n",
       "      <td>707.835028</td>\n",
       "      <td>4467634</td>\n",
       "      <td>0</td>\n",
       "    </tr>\n",
       "    <tr>\n",
       "      <th>2</th>\n",
       "      <td>Alabama</td>\n",
       "      <td>2002</td>\n",
       "      <td>31.078369</td>\n",
       "      <td>58.387879</td>\n",
       "      <td>140.003374</td>\n",
       "      <td>709.996611</td>\n",
       "      <td>4480089</td>\n",
       "      <td>0</td>\n",
       "    </tr>\n",
       "    <tr>\n",
       "      <th>3</th>\n",
       "      <td>Alabama</td>\n",
       "      <td>2003</td>\n",
       "      <td>31.146559</td>\n",
       "      <td>58.176501</td>\n",
       "      <td>140.866652</td>\n",
       "      <td>687.646242</td>\n",
       "      <td>4503491</td>\n",
       "      <td>0</td>\n",
       "    </tr>\n",
       "    <tr>\n",
       "      <th>4</th>\n",
       "      <td>Alabama</td>\n",
       "      <td>2004</td>\n",
       "      <td>31.462079</td>\n",
       "      <td>57.504820</td>\n",
       "      <td>143.567133</td>\n",
       "      <td>675.106584</td>\n",
       "      <td>4530729</td>\n",
       "      <td>0</td>\n",
       "    </tr>\n",
       "    <tr>\n",
       "      <th>...</th>\n",
       "      <td>...</td>\n",
       "      <td>...</td>\n",
       "      <td>...</td>\n",
       "      <td>...</td>\n",
       "      <td>...</td>\n",
       "      <td>...</td>\n",
       "      <td>...</td>\n",
       "      <td>...</td>\n",
       "    </tr>\n",
       "    <tr>\n",
       "      <th>964</th>\n",
       "      <td>Wyoming</td>\n",
       "      <td>2014</td>\n",
       "      <td>112.744258</td>\n",
       "      <td>76.445675</td>\n",
       "      <td>65.724561</td>\n",
       "      <td>1058.772596</td>\n",
       "      <td>582531</td>\n",
       "      <td>0</td>\n",
       "    </tr>\n",
       "    <tr>\n",
       "      <th>965</th>\n",
       "      <td>Wyoming</td>\n",
       "      <td>2015</td>\n",
       "      <td>108.894718</td>\n",
       "      <td>77.261528</td>\n",
       "      <td>63.810667</td>\n",
       "      <td>981.994022</td>\n",
       "      <td>585613</td>\n",
       "      <td>0</td>\n",
       "    </tr>\n",
       "    <tr>\n",
       "      <th>966</th>\n",
       "      <td>Wyoming</td>\n",
       "      <td>2016</td>\n",
       "      <td>104.380515</td>\n",
       "      <td>76.070089</td>\n",
       "      <td>60.965014</td>\n",
       "      <td>1008.689381</td>\n",
       "      <td>584215</td>\n",
       "      <td>0</td>\n",
       "    </tr>\n",
       "    <tr>\n",
       "      <th>967</th>\n",
       "      <td>Wyoming</td>\n",
       "      <td>2017</td>\n",
       "      <td>107.845353</td>\n",
       "      <td>75.180745</td>\n",
       "      <td>62.358653</td>\n",
       "      <td>1061.552122</td>\n",
       "      <td>578931</td>\n",
       "      <td>0</td>\n",
       "    </tr>\n",
       "    <tr>\n",
       "      <th>968</th>\n",
       "      <td>Wyoming</td>\n",
       "      <td>2018</td>\n",
       "      <td>109.913935</td>\n",
       "      <td>75.131093</td>\n",
       "      <td>63.442856</td>\n",
       "      <td>1082.639053</td>\n",
       "      <td>577601</td>\n",
       "      <td>0</td>\n",
       "    </tr>\n",
       "  </tbody>\n",
       "</table>\n",
       "<p>969 rows × 8 columns</p>\n",
       "</div>"
      ],
      "text/plain": [
       "       State  Year  Per Capita energy related emissions  \\\n",
       "0    Alabama  2000                            32.097687   \n",
       "1    Alabama  2001                            30.044993   \n",
       "2    Alabama  2002                            31.078369   \n",
       "3    Alabama  2003                            31.146559   \n",
       "4    Alabama  2004                            31.462079   \n",
       "..       ...   ...                                  ...   \n",
       "964  Wyoming  2014                           112.744258   \n",
       "965  Wyoming  2015                           108.894718   \n",
       "966  Wyoming  2016                           104.380515   \n",
       "967  Wyoming  2017                           107.845353   \n",
       "968  Wyoming  2018                           109.913935   \n",
       "\n",
       "     Carbon Intensity of energy supply  Carbon emissions adjusted  \\\n",
       "0                            58.980063                 143.449839   \n",
       "1                            58.595615                 134.985163   \n",
       "2                            58.387879                 140.003374   \n",
       "3                            58.176501                 140.866652   \n",
       "4                            57.504820                 143.567133   \n",
       "..                                 ...                        ...   \n",
       "964                          76.445675                  65.724561   \n",
       "965                          77.261528                  63.810667   \n",
       "966                          76.070089                  60.965014   \n",
       "967                          75.180745                  62.358653   \n",
       "968                          75.131093                  63.442856   \n",
       "\n",
       "     Carbon Intensity Economy  Population  RGGI Adopt  \n",
       "0                  783.255236     4452173           0  \n",
       "1                  707.835028     4467634           0  \n",
       "2                  709.996611     4480089           0  \n",
       "3                  687.646242     4503491           0  \n",
       "4                  675.106584     4530729           0  \n",
       "..                        ...         ...         ...  \n",
       "964               1058.772596      582531           0  \n",
       "965                981.994022      585613           0  \n",
       "966               1008.689381      584215           0  \n",
       "967               1061.552122      578931           0  \n",
       "968               1082.639053      577601           0  \n",
       "\n",
       "[969 rows x 8 columns]"
      ]
     },
     "execution_count": 90,
     "metadata": {},
     "output_type": "execute_result"
    }
   ],
   "source": [
    "merged_df_4"
   ]
  },
  {
   "cell_type": "code",
   "execution_count": 91,
   "id": "990c3e95",
   "metadata": {},
   "outputs": [],
   "source": [
    "merged_df_4.to_excel(r'/Users/sarahsiddiqui/Desktop/classes/529/project/mergedfilefinal_1.xlsx', index = False)"
   ]
  }
 ],
 "metadata": {
  "kernelspec": {
   "display_name": "Python 3",
   "language": "python",
   "name": "python3"
  },
  "language_info": {
   "codemirror_mode": {
    "name": "ipython",
    "version": 3
   },
   "file_extension": ".py",
   "mimetype": "text/x-python",
   "name": "python",
   "nbconvert_exporter": "python",
   "pygments_lexer": "ipython3",
   "version": "3.8.8"
  }
 },
 "nbformat": 4,
 "nbformat_minor": 5
}
